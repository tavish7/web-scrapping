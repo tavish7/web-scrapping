{
 "cells": [
  {
   "cell_type": "code",
   "execution_count": 1,
   "metadata": {},
   "outputs": [],
   "source": [
    "import pandas as pd               #data frame - data to spreadsheet\n",
    "import numpy as np                #manupulating data in arrays\n",
    "import matplotlib.pyplot as plt   #ploting data  \n",
    "\n",
    "%matplotlib inline                \n",
    "\n",
    "from urllib.request import urlopen #opening website\n",
    "from bs4 import BeautifulSoup\n",
    "import re"
   ]
  },
  {
   "cell_type": "code",
   "execution_count": 2,
   "metadata": {},
   "outputs": [],
   "source": [
    "url = \"https://www.hubertiming.com/results/2018MLK\"\n",
    "html = urlopen(url)          #opening link to the website"
   ]
  },
  {
   "cell_type": "code",
   "execution_count": 3,
   "metadata": {},
   "outputs": [],
   "source": [
    "soup = BeautifulSoup(html)   #created an object soup that contains the information"
   ]
  },
  {
   "cell_type": "code",
   "execution_count": 5,
   "metadata": {},
   "outputs": [
    {
     "name": "stdout",
     "output_type": "stream",
     "text": [
      "<title>2018 MLK Dream Run 5K Race Results</title>\n",
      "2018 MLK Dream Run 5K Race Results\n"
     ]
    }
   ],
   "source": [
    "#start extracting information\n",
    "print(title)\n",
    "title = soup.title\n",
    "print(title.text)"
   ]
  },
  {
   "cell_type": "code",
   "execution_count": 10,
   "metadata": {},
   "outputs": [
    {
     "name": "stdout",
     "output_type": "stream",
     "text": [
      "mailto:timing@hubertiming.com\n",
      "https://www.hubertiming.com/\n",
      "/results/2018MLK10K\n",
      "/results/2018MLK15K\n",
      "/results/summary/2018MLK\n",
      "#tabs-1\n",
      "https://www.hubertiming.com/\n",
      "https://facebook.com/hubertiming/\n"
     ]
    }
   ],
   "source": [
    "links = soup.find_all('a', href=True)  #a - key to find\n",
    "for link in links:\n",
    "    print(link['href'])"
   ]
  },
  {
   "cell_type": "code",
   "execution_count": 13,
   "metadata": {},
   "outputs": [
    {
     "name": "stdout",
     "output_type": "stream",
     "text": [
      "[<tr colspan=\"2\"><b>5K:</b></tr>, <tr><td>Finishers:</td><td>191</td></tr>, <tr><td>Male:</td><td>78</td></tr>, <tr><td>Female:</td><td>113</td></tr>, <tr class=\"header\">\n",
      "<th>Place</th>\n",
      "<th>Bib</th>\n",
      "<th>Name</th>\n",
      "<th>Gender</th>\n",
      "<th>Age</th>\n",
      "<th>City</th>\n",
      "<th>State</th>\n",
      "<th>Chip Time</th>\n",
      "<th>Chip Pace</th>\n",
      "<th>Gender Place</th>\n",
      "<th>Age Group</th>\n",
      "<th>Age Group Place</th>\n",
      "<th>Time to Start</th>\n",
      "<th>Gun Time</th>\n",
      "</tr>]\n"
     ]
    }
   ],
   "source": [
    "#getting data\n",
    "\n",
    "allrows = soup.find_all('tr')\n",
    "print(allrows[:5])"
   ]
  },
  {
   "cell_type": "code",
   "execution_count": 15,
   "metadata": {},
   "outputs": [
    {
     "name": "stdout",
     "output_type": "stream",
     "text": [
      "[<td>191</td>, <td>1216</td>, <td>ZULMA OCHOA</td>, <td>F</td>, <td>40</td>, <td>GRESHAM</td>, <td>OR</td>, <td>1:43:27</td>, <td>33:22</td>, <td>113 of 113</td>, <td>F 40-54</td>, <td>37 of 37</td>, <td>0:00</td>, <td>1:43:27</td>]\n",
      "191\n",
      "1216\n",
      "ZULMA OCHOA\n",
      "F\n",
      "40\n",
      "GRESHAM\n",
      "OR\n",
      "1:43:27\n",
      "33:22\n",
      "113 of 113\n",
      "F 40-54\n",
      "37 of 37\n",
      "0:00\n",
      "1:43:27\n"
     ]
    }
   ],
   "source": [
    "#row list\n",
    "allrows = soup.find_all('tr')\n",
    "for row in allrows:\n",
    "    row_list = row.find_all('td')\n",
    "print(row_list)\n",
    "for cell in row_list:\n",
    "    print(cell.text)"
   ]
  },
  {
   "cell_type": "code",
   "execution_count": 29,
   "metadata": {},
   "outputs": [
    {
     "name": "stdout",
     "output_type": "stream",
     "text": [
      "[['190', '2087', 'LEESHA POSEY', 'F', '43', 'PORTLAND', 'OR', '1:33:53', '30:17', '112 of 113', 'F 40-54', '36 of 37', '0:00', '1:33:53'], ['191', '1216', 'ZULMA OCHOA', 'F', '40', 'GRESHAM', 'OR', '1:43:27', '33:22', '113 of 113', 'F 40-54', '37 of 37', '0:00', '1:43:27']]\n"
     ]
    }
   ],
   "source": [
    "#getting data in row\n",
    "data = []\n",
    "allrows = soup.find_all('tr')\n",
    "for row in allrows:\n",
    "    row_list = row.find_all('td')\n",
    "    dataRow = []\n",
    "    for cell in row_list:\n",
    "        dataRow.append(cell.text)\n",
    "    data.append(dataRow)\n",
    "data = data[4:]\n",
    "print(data[-2:])"
   ]
  },
  {
   "cell_type": "code",
   "execution_count": 30,
   "metadata": {},
   "outputs": [
    {
     "name": "stdout",
     "output_type": "stream",
     "text": [
      "[[], ['1', '1191', 'MAX RANDOLPH', 'M', '29', 'WASHINGTON', 'DC', '16:48', '5:25', '1 of 78', 'M 21-39', '1 of 33', '0:08', '16:56'], ['2', '1080', 'NEED NAME KAISER RUNNER', 'M', '25', 'PORTLAND', 'OR', '17:31', '5:39', '2 of 78', 'M 21-39', '2 of 33', '0:09', '17:40'], ['3', '1275', 'DAN FRANEK', 'M', '52', 'PORTLAND', 'OR', '18:15', '5:53', '3 of 78', 'M 40-54', '1 of 27', '0:07', '18:22'], ['4', '1223', 'PAUL TAYLOR', 'M', '54', 'PORTLAND', 'OR', '18:31', '5:58', '4 of 78', 'M 40-54', '2 of 27', '0:07', '18:38'], ['5', '1245', 'THEO KINMAN', 'M', '22', '', '', '19:31', '6:17', '5 of 78', 'M 21-39', '3 of 33', '0:09', '19:40'], ['6', '1185', 'MELISSA GIRGIS', 'F', '27', 'PORTLAND', 'OR', '19:39', '6:20', '1 of 113', 'F 21-39', '1 of 53', '0:07', '19:46'], ['7', '1251', 'CHARLIE COGGESHALL', 'M', '39', 'PORTLAND', 'OR', '19:51', '6:24', '6 of 78', 'M 21-39', '4 of 33', '0:10', '20:01'], ['8', '1154', 'UNKNOWN RUNNER SEE TIMER', 'M', '', '', '', '24:58', '8:03', '7 of 78', '', '1 of 9', '2:00', '26:58'], ['9', '1163', 'UNKNOWN RUNNER SEE TIMER', 'M', '', '', '', '25:01', '8:04', '8 of 78', '', '2 of 9', '1:59', '27:00'], ['10', '1242', 'KIMONTI WILSON', 'F', '48', '', '', '25:01', '8:04', '2 of 113', 'F 40-54', '1 of 37', '1:59', '27:00'], ['11', '1017', 'COREY MCMANUS', 'M', '37', 'BEAVERTON', 'OR', '25:17', '8:09', '9 of 78', 'M 21-39', '5 of 33', '0:22', '25:39'], ['12', '1112', 'MITCHELL JOHNSON', 'M', '25', 'PORTLAND', 'OR', '25:31', '8:13', '10 of 78', 'M 21-39', '6 of 33', '0:15', '25:46'], ['13', '1062', 'ALEX KABA', 'M', '36', 'PORTLAND', 'OR', '25:31', '8:14', '11 of 78', 'M 21-39', '7 of 33', '0:14', '25:45'], ['14', '1227', 'ROBYN MCGILLIS', 'F', '44', 'PORTLAND', 'OR', '25:44', '8:18', '3 of 113', 'F 40-54', '2 of 37', '0:08', '25:52'], ['15', '1067', 'MITCHELL WARDEN', 'M', '29', 'PORTLAND', 'OR', '25:46', '8:19', '12 of 78', 'M 21-39', '8 of 33', '0:14', '26:00'], ['16', '1136', 'JULIA METZ', 'F', '32', 'PORTLAND', 'OR', '26:31', '8:33', '4 of 113', 'F 21-39', '2 of 53', '0:33', '27:04'], ['17', '1199', 'JEREMY AREZZINI', 'M', '38', 'LAKE OSWEGO', 'OR', '26:44', '8:37', '13 of 78', 'M 21-39', '9 of 33', '0:41', '27:25'], ['18', '1252', 'ETHAN POWELL', 'M', '', '', '', '26:52', '8:40', '14 of 78', '', '3 of 9', '0:11', '27:03'], ['19', '1231', 'TIMOTHY KEARNEY', 'M', '42', 'PORTLAND', 'OR', '26:58', '8:42', '15 of 78', 'M 40-54', '3 of 27', '0:11', '27:09'], ['20', '1108', 'TIMOTHY RINGERING', 'M', '50', 'VANCOUVER', 'WA', '27:02', '8:43', '16 of 78', 'M 40-54', '4 of 27', '0:10', '27:12'], ['21', '1118', 'PONTUS JADERHOLM', 'M', '43', 'PORTLAND', 'OR', '27:08', '8:45', '17 of 78', 'M 40-54', '5 of 27', '0:13', '27:21'], ['22', '1246', 'KERRY FLAGG', 'M', '', '', '', '27:10', '8:45', '18 of 78', '', '4 of 9', '0:10', '27:20'], ['23', '1244', 'JARRED FLAGG', 'M', '', '', '', '27:11', '8:46', '19 of 78', '', '5 of 9', '0:10', '27:21'], ['24', '1224', 'KEN SKEEN', 'M', '57', 'PORTLAND', 'OR', '27:12', '8:46', '20 of 78', 'M 55+', '1 of 5', '0:18', '27:30'], ['25', '1065', 'SARA KOPTON', 'F', '40', 'PORTLAND', 'OR', '27:27', '8:51', '5 of 113', 'F 40-54', '3 of 37', '0:20', '27:47'], ['26', '1274', 'KAISER GUEST', 'F', '40', 'PORTLAND', 'OR', '27:37', '8:54', '6 of 113', 'F 40-54', '4 of 37', '0:09', '27:46'], ['27', '1208', 'JUSTIN PERZ', 'M', '33', 'PORTLAND', 'OR', '27:39', '8:55', '21 of 78', 'M 21-39', '10 of 33', '0:38', '28:17'], ['28', '1072', 'ESTELA SÁNCHEZ', 'F', '41', 'PORTLAND', 'OR', '27:45', '8:57', '7 of 113', 'F 40-54', '5 of 37', '0:08', '27:53'], ['29', '1018', 'JASON WILLIAMS', 'M', '41', 'PORTLAND', 'OR', '27:50', '8:58', '22 of 78', 'M 40-54', '6 of 27', '0:23', '28:13'], ['30', '1297', 'ADRIANA BRITTON', 'F', '53', 'PORTLAND', 'OR', '27:54', '9:00', '8 of 113', 'F 40-54', '6 of 37', '0:12', '28:06'], ['31', '1117', 'MARK WOOD', 'M', '43', 'PORTLAND', 'OR', '28:05', '9:03', '23 of 78', 'M 40-54', '7 of 27', '0:30', '28:35'], ['32', '1201', 'STEVE CRANDELL', 'M', '61', 'PORTLAND', 'OR', '28:06', '9:03', '24 of 78', 'M 55+', '2 of 5', '0:09', '28:15'], ['33', '1110', 'DARRELL KRIECHBAUM', 'M', '53', 'PORTLAND', 'OR', '28:11', '9:05', '25 of 78', 'M 40-54', '8 of 27', '0:12', '28:23'], ['34', '1104', 'JANICE JACOBS', 'F', '55', 'SALEM', 'OR', '28:11', '9:05', '9 of 113', 'F 55+', '1 of 14', '0:15', '28:26'], ['35', '1300', 'CORY ANDERSON', 'M', '30', 'PORTLAND', 'OR', '28:14', '9:06', '26 of 78', 'M 21-39', '11 of 33', '0:19', '28:33'], ['36', '1238', 'PAUL SUMMERS', 'M', '24', 'PORTLAND', 'OR', '28:21', '9:08', '27 of 78', 'M 21-39', '12 of 33', '0:15', '28:36'], ['37', '1298', 'ALEX NGUYEN', 'M', '26', '', '', '28:22', '9:09', '28 of 78', 'M 21-39', '13 of 33', '0:19', '28:41'], ['38', '1157', 'JEREMY SWEET', 'M', '27', 'PORTLAND', 'OR', '28:32', '9:12', '29 of 78', 'M 21-39', '14 of 33', '0:20', '28:52'], ['39', '1106', 'DANIEL JOHNSTON', 'M', '43', 'PORTLAND', 'OR', '28:32', '9:12', '30 of 78', 'M 40-54', '9 of 27', '0:12', '28:44'], ['40', '1196', 'LIZANN DUNEGAN', 'F', '53', 'PORTLAND', 'OR', '28:34', '9:13', '10 of 113', 'F 40-54', '7 of 37', '0:14', '28:48'], ['41', '1239', 'ALYX WYNN', 'F', '28', 'PORTLAND', 'OR', '28:37', '9:14', '11 of 113', 'F 21-39', '3 of 53', '0:21', '28:58'], ['42', '1087', 'YALOUNDA HUNT', 'F', '60', 'PORTLAND', 'OR', '28:40', '9:14', '12 of 113', 'F 55+', '2 of 14', '0:09', '28:49'], ['43', '1068', 'SERGIO RIVERA', 'M', '32', 'PORTLAND', 'OR', '28:41', '9:15', '31 of 78', 'M 21-39', '15 of 33', '0:21', '29:02'], ['44', '1071', 'PEDRO FLORES', 'M', '42', 'PORTLAND', 'OR', '28:42', '9:15', '32 of 78', 'M 40-54', '10 of 27', '0:08', '28:50'], ['45', '1159', 'JEFF DOWNEY', 'M', '36', 'PORTLAND', 'OR', '28:42', '9:15', '33 of 78', 'M 21-39', '16 of 33', '0:19', '29:01'], ['46', '1241', 'NICK SCHUDER', 'M', '44', 'PORTLAND', 'OR', '28:45', '9:16', '34 of 78', 'M 40-54', '11 of 27', '0:18', '29:03'], ['47', '1023', 'JOHN GARDNER', 'M', '44', 'PORTLAND', 'OR', '28:51', '9:18', '35 of 78', 'M 40-54', '12 of 27', '0:25', '29:16'], ['48', '1253', 'JAZMIN BEMBRY', 'F', '23', 'PORTLAND', 'OR', '28:56', '9:20', '13 of 113', 'F 21-39', '4 of 53', '0:15', '29:11'], ['49', '1247', 'THEO KINWAN', 'F', '', '', '', '29:09', '9:24', '14 of 113', '', '6 of 9', '0:10', '29:19'], ['50', '1019', 'ERIKA TURNEY', 'F', '46', 'BATTLE GROUNDB', 'WA', '29:10', '9:24', '15 of 113', 'F 40-54', '8 of 37', '0:24', '29:34'], ['51', '1066', 'MICHELLE FRAZIER', 'F', '27', 'PORTLAND', 'OR', '29:12', '9:25', '16 of 113', 'F 21-39', '5 of 53', '0:13', '29:25'], ['52', '1151', 'CHRISTINA LECHER', 'F', '31', 'MILWAUKEE', 'WI', '29:21', '9:28', '17 of 113', 'F 21-39', '6 of 53', '0:18', '29:39'], ['53', '1152', 'BERNARD RAHMING', 'M', '31', 'PORTLAND', 'OR', '29:21', '9:28', '36 of 78', 'M 21-39', '17 of 33', '0:18', '29:39'], ['54', '1095', 'TROY PICKARD', 'M', '36', 'PORTLAND', 'OR', '29:22', '9:28', '37 of 78', 'M 21-39', '18 of 33', '0:44', '30:06'], ['55', '1028', 'JONATHAN TILLMAN', 'M', '49', 'PORTLAND', 'OR', '29:23', '9:28', '38 of 78', 'M 40-54', '13 of 27', '0:24', '29:47'], ['56', '1174', 'CYNJAYSHA BOLES', 'F', '26', 'PORTLAND', 'OR', '29:46', '9:36', '18 of 113', 'F 21-39', '7 of 53', '0:09', '29:55'], ['57', '1013', 'TERESA MCGRATH', 'F', '65', 'PORTLAND', 'OR', '29:51', '9:37', '19 of 113', 'F 55+', '3 of 14', '0:10', '30:01'], ['58', '1237', 'ERYN HOERSTER', 'F', '37', 'PORTLAND', 'OR', '30:41', '9:53', '20 of 113', 'F 21-39', '8 of 53', '0:40', '31:21'], ['59', '1230', 'EDUARDO ARIZAGA', 'M', '38', 'PORTLAND', 'OR', '30:55', '9:58', '39 of 78', 'M 21-39', '19 of 33', '0:47', '31:42'], ['60', '1236', 'BEN HOERSTER', 'M', '37', 'PORTLAND', 'OR', '31:29', '10:09', '40 of 78', 'M 21-39', '20 of 33', '0:43', '32:12'], ['61', '1125', 'ABIGAIL VAN GELDER', 'F', '36', 'PORTLAND', 'OR', '31:37', '10:12', '21 of 113', 'F 21-39', '9 of 53', '0:16', '31:53'], ['62', '1053', 'DAMIANA KING', 'F', '38', 'PORTLAND', 'OR', '32:02', '10:20', '22 of 113', 'F 21-39', '10 of 53', '0:12', '32:14'], ['63', '1010', 'HEATHER CERMAK', 'F', '29', 'PORTLAND', 'OR', '32:11', '10:23', '23 of 113', 'F 21-39', '11 of 53', '0:41', '32:52'], ['64', '1011', 'COLE CHRIST', 'M', '19', 'PORTLAND', 'OR', '32:11', '10:23', '41 of 78', 'M 20 and Under', '1 of 7', '0:42', '32:53'], ['65', '1179', 'MIRIAN HINOJOSA', 'F', '40', 'MILWAUKIE', 'OR', '32:48', '10:34', '24 of 113', 'F 40-54', '9 of 37', '0:14', '33:02'], ['66', '1183', 'CAMERON SEIDLING', 'M', '28', 'PORTLAND', 'OR', '33:16', '10:44', '42 of 78', 'M 21-39', '21 of 33', '0:37', '33:53'], ['67', '1137', 'LARRY JENKINS', 'M', '31', 'PORTLAND', 'OR', '33:16', '10:44', '43 of 78', 'M 21-39', '22 of 33', '0:34', '33:50'], ['68', '1173', 'ALYS MEYER', 'F', '12', 'PORTLAND', 'OR', '33:33', '10:49', '25 of 113', 'F 20 and Under', '1 of 6', '0:27', '34:00'], ['69', '1103', 'SARAH MEYER', 'F', '34', 'PORTLAND', 'OR', '33:36', '10:50', '26 of 113', 'F 21-39', '12 of 53', '0:26', '34:02'], ['70', '1100', 'ELIZABETH TAYLOR', 'F', '39', 'PORTLAND', 'OR', '33:40', '10:51', '27 of 113', 'F 21-39', '13 of 53', '0:37', '34:17'], ['71', '1190', 'RICARDO BARRERA', 'M', '45', 'PORTLAND', 'OR', '34:00', '10:58', '44 of 78', 'M 40-54', '14 of 27', '0:29', '34:29'], ['72', '1127', 'MOIRA SHERRY', 'F', '24', 'PORTLAND', 'OR', '34:14', '11:02', '28 of 113', 'F 21-39', '14 of 53', '0:19', '34:33'], ['73', '1299', 'BRYNDON COUGHLIN', 'M', '27', 'PORTLAND', 'OR', '34:16', '11:03', '45 of 78', 'M 21-39', '23 of 33', '0:44', '35:00'], ['74', '1261', 'CHADI BOTRNS', 'M', '', '', '', '34:19', '11:04', '46 of 78', '', '7 of 9', '0:30', '34:49'], ['75', '1006', 'HELEN SHARP', 'F', '53', 'FOREST GROVE', 'OR', '34:32', '11:08', '29 of 113', 'F 40-54', '10 of 37', '0:16', '34:48'], ['76', '1165', 'CLAYTON BELL', 'M', '40', 'PORTLAND', 'OR', '34:38', '11:10', '47 of 78', 'M 40-54', '15 of 27', '0:18', '34:56'], ['77', '1219', 'PATRICIA ENGLE', 'F', '43', 'PORTLAND', 'OR', '34:42', '11:11', '30 of 113', 'F 40-54', '11 of 37', '0:30', '35:12'], ['78', '1200', 'BEN KLEVIT', 'M', '53', 'LAKE OSWEGO', 'OR', '34:49', '11:13', '48 of 78', 'M 40-54', '16 of 27', '0:39', '35:28'], ['79', '1132', 'KAYLEN GIBBENS', 'F', '41', 'HILLSBORO', 'OR', '34:54', '11:15', '31 of 113', 'F 40-54', '12 of 37', '0:20', '35:14'], ['80', '1122', 'AUGUST EPSTEIN', 'M', '26', 'PORTLAND', 'OR', '35:57', '11:36', '49 of 78', 'M 21-39', '24 of 33', '0:12', '36:09'], ['81', '1121', 'SAMANTHA PINKERTON', 'F', '26', 'PORTLAND', 'OR', '35:58', '11:36', '32 of 113', 'F 21-39', '15 of 53', '0:12', '36:10'], ['82', '1107', 'NICOLE SCHULMERICH', 'F', '33', 'PORTLAND', 'OR', '36:10', '11:40', '33 of 113', 'F 21-39', '16 of 53', '0:27', '36:37'], ['83', '1056', 'MARYJANE YACOBY', 'F', '35', 'VANCOUVER', 'WA', '36:53', '11:54', '34 of 113', 'F 21-39', '17 of 53', '0:22', '37:15'], ['84', '1057', 'JOEL YACOBY', 'M', '40', 'VANCOUVER', 'WA', '36:56', '11:54', '50 of 78', 'M 40-54', '17 of 27', '0:22', '37:18'], ['85', '1055', 'JILL TIMSHEL', 'F', '39', 'BATTLE GROUND', 'WA', '36:56', '11:55', '35 of 113', 'F 21-39', '18 of 53', '0:23', '37:19'], ['86', '1022', 'CHRISTIE VANG', 'F', '32', 'PORTLAND', 'OR', '37:02', '11:57', '36 of 113', 'F 21-39', '19 of 53', '0:29', '37:31'], ['87', '1192', 'JUNE REYES', 'F', '30', 'PORTLAND', 'OR', '37:18', '12:02', '37 of 113', 'F 21-39', '20 of 53', '0:20', '37:38'], ['88', '1078', 'FRED SMITH', 'M', '46', 'PORTLAND', 'OR', '38:06', '12:17', '51 of 78', 'M 40-54', '18 of 27', '0:18', '38:24'], ['89', '1077', 'BRIANNA MILLER', 'F', '25', 'PORTLAND', 'OR', '38:15', '12:20', '38 of 113', 'F 21-39', '21 of 53', '0:26', '38:41'], ['90', '1073', 'RAÚL ROMERO', 'M', '42', 'PORTLAND', 'OR', '38:23', '12:23', '52 of 78', 'M 40-54', '19 of 27', '0:00', '38:23'], ['91', '1134', 'AMANDA MATLIN', 'F', '36', 'PORTLAND', 'OR', '39:17', '12:40', '39 of 113', 'F 21-39', '22 of 53', '0:35', '39:52'], ['92', '1096', 'SHAYLA VELASQUEZ', 'F', '28', 'TROUTDALEUTDALE', 'OR', '39:18', '12:40', '40 of 113', 'F 21-39', '23 of 53', '0:26', '39:44'], ['93', '1195', 'PEYTON VELASQUEZ', 'M', '9', 'TROUTDALEUTDALE', 'OR', '39:18', '12:40', '53 of 78', 'M 20 and Under', '2 of 7', '0:26', '39:44'], ['94', '1176', 'JOSHUA BRUNO', 'M', '40', 'PORTLAND', 'OR', '39:20', '12:41', '54 of 78', 'M 40-54', '20 of 27', '0:33', '39:53'], ['95', '1064', 'DANIALE LYNCH', 'F', '39', 'PORTLAND', 'OR', '39:28', '12:44', '41 of 113', 'F 21-39', '24 of 53', '0:22', '39:50'], ['96', '1189', 'SHAYLA TURNER', 'F', '33', 'PORTLAND', 'OR', '39:30', '12:44', '42 of 113', 'F 21-39', '25 of 53', '0:18', '39:48'], ['97', '1177', 'MELITA LYNCH', 'F', '22', 'PORTLAND', 'OR', '39:55', '12:52', '43 of 113', 'F 21-39', '26 of 53', '0:23', '40:18'], ['98', '1178', 'DEVON WONG', 'M', '26', 'PORTLAND', 'OR', '39:55', '12:52', '55 of 78', 'M 21-39', '25 of 33', '0:23', '40:18'], ['99', '1184', 'KELLY BUCHANAN', 'F', '28', 'PORTLAND', 'OR', '40:03', '12:55', '44 of 113', 'F 21-39', '27 of 53', '0:36', '40:39'], ['100', '1029', 'MOLLI MITCHELL', 'F', '36', 'PORTLAND', 'OR', '40:21', '13:01', '45 of 113', 'F 21-39', '28 of 53', '0:30', '40:51'], ['101', '1158', 'JAYMES LATIMER', 'M', '27', 'PORTLAND', 'OR', '40:50', '13:10', '56 of 78', 'M 21-39', '26 of 33', '0:19', '41:09'], ['102', '1296', 'SUE ANN HIGGENS', 'F', '57', 'PORTLAND', 'OR', '41:15', '13:18', '46 of 113', 'F 55+', '4 of 14', '0:17', '41:32'], ['103', '1020', 'NAT KIM', 'F', '38', 'PORTLAND', 'OR', '41:21', '13:20', '47 of 113', 'F 21-39', '29 of 53', '0:10', '41:31'], ['104', '1052', 'BETH BOGDEWIECZ', 'F', '37', 'PORTLAND', 'OR', '41:50', '13:29', '48 of 113', 'F 21-39', '30 of 53', '0:27', '42:17'], ['105', '1051', 'AMBER BOGDEWIECZ', 'F', '38', 'PORTLAND', 'OR', '41:50', '13:29', '49 of 113', 'F 21-39', '31 of 53', '0:27', '42:17'], ['106', '1069', 'PAM CROW', 'F', '61', 'PORTLAND', 'OR', '42:04', '13:34', '50 of 113', 'F 55+', '5 of 14', '0:23', '42:27'], ['107', '1076', 'MARLON BROUSSARD', 'M', '47', 'PORTLAND', 'OR', '42:21', '13:39', '57 of 78', 'M 40-54', '21 of 27', '0:19', '42:40'], ['108', '1070', 'HAILEI ABERSON', 'F', '23', 'PORTLAND', 'OR', '43:01', '13:52', '51 of 113', 'F 21-39', '32 of 53', '0:24', '43:25'], ['109', '1166', 'GRACE MCBARRON', 'F', '23', 'PORTLAND', 'OR', '43:01', '13:52', '52 of 113', 'F 21-39', '33 of 53', '0:25', '43:26'], ['110', '1164', 'AMIYAH HOLFORD', 'F', '15', 'PORTLAND', 'OR', '43:07', '13:54', '53 of 113', 'F 20 and Under', '2 of 6', '0:25', '43:32'], ['111', '1222', 'KENNETH MARSHALL', 'M', '26', 'VANCOUVER', 'WA', '43:20', '13:58', '58 of 78', 'M 21-39', '27 of 33', '0:11', '43:31'], ['112', '1097', 'VERNA MARSHALL', 'F', '64', 'CAMAS', 'WA', '43:20', '13:59', '54 of 113', 'F 55+', '6 of 14', '0:12', '43:32'], ['113', '1101', 'ERIN SCHWARZ', 'F', '29', 'PORTLAND', 'OR', '43:50', '14:08', '55 of 113', 'F 21-39', '34 of 53', '0:37', '44:27'], ['114', '1144', 'KIMBERLEY JACKSON', 'F', '51', 'PORTLAND', 'OR', '44:46', '14:26', '56 of 113', 'F 40-54', '13 of 37', '0:32', '45:18'], ['115', '1007', 'KYLE NEWELL', 'M', '57', 'PORTLAND', 'OR', '44:58', '14:30', '59 of 78', 'M 55+', '3 of 5', '0:31', '45:29'], ['116', '1229', 'KAREN FOSTER', 'F', '39', 'PORTLAND', 'OR', '45:06', '14:32', '57 of 113', 'F 21-39', '35 of 53', '0:13', '45:19'], ['117', '1005', 'DELIA GRENVILLE', 'F', '52', 'PORTLAND', 'OR', '45:10', '14:34', '58 of 113', 'F 40-54', '14 of 37', '0:15', '45:25'], ['118', '1295', 'THOMAS RUKS', 'M', '50', 'PORTLAND', 'OR', '45:15', '14:36', '60 of 78', 'M 40-54', '22 of 27', '0:37', '45:52'], ['119', '1054', 'TRACY BOWLES', 'F', '38', 'PORTLAND', 'OR', '46:17', '14:55', '59 of 113', 'F 21-39', '36 of 53', '0:23', '46:40'], ['120', '1262', 'KARI SCHLINKMEIER', 'F', '', '', '', '47:28', '15:18', '60 of 113', '', '8 of 9', '0:13', '47:41'], ['121', '1024', 'CINZIA CORIO-HOLMAN', 'F', '52', 'PORTLAND', 'OR', '47:41', '15:22', '61 of 113', 'F 40-54', '15 of 37', '0:23', '48:04'], ['122', '1088', 'GALEN HARDEN', 'M', '52', 'PORTLAND', '', '47:56', '15:27', '61 of 78', 'M 40-54', '23 of 27', '0:17', '48:13'], ['123', '1059', 'AMIYAH BERRY', 'F', '9', 'PORTLAND', 'OR', '48:00', '15:29', '62 of 113', 'F 20 and Under', '3 of 6', '0:31', '48:31'], ['124', '1014', 'DESIREE VIELMETTI', 'F', '34', 'PORTLAND', 'OR', '48:02', '15:29', '63 of 113', 'F 21-39', '37 of 53', '0:29', '48:31'], ['125', '1015', 'BRITTANY BERRY HILL', 'F', '29', 'PORTLAND', 'OR', '48:03', '15:30', '64 of 113', 'F 21-39', '38 of 53', '0:31', '48:34'], ['126', '1035', 'JESSE CHRISTENSON', 'M', '37', 'PORTLAND', 'OR', '48:07', '15:31', '62 of 78', 'M 21-39', '28 of 33', '0:30', '48:37'], ['127', '1172', 'LOUISE MOROZ', 'F', '48', 'PEORIA', 'AZ', '48:26', '15:37', '65 of 113', 'F 40-54', '16 of 37', '0:44', '49:10'], ['128', '1012', 'MEREDITH BOWIE', 'F', '37', 'SHERWOOD', 'OR', '48:28', '15:38', '66 of 113', 'F 21-39', '39 of 53', '0:43', '49:11'], ['129', '1248', 'TERI UNTALAN', 'F', '51', 'PORTLAND', 'OR', '49:20', '15:54', '67 of 113', 'F 40-54', '17 of 37', '0:27', '49:47'], ['130', '1249', 'SAM MCKINSTRY', 'M', '33', 'PORTLAND', 'OR', '49:20', '15:54', '63 of 78', 'M 21-39', '29 of 33', '0:26', '49:46'], ['131', '1131', 'MARGARET PETERSEN', 'F', '13', 'VANCOUVER', 'WA', '51:20', '16:33', '68 of 113', 'F 20 and Under', '4 of 6', '0:36', '51:56'], ['132', '1188', 'BARBARA WOODFORD', 'F', '65', 'PORTLAND', 'OR', '51:21', '16:33', '69 of 113', 'F 55+', '7 of 14', '0:39', '52:00'], ['133', '1130', 'DAVID PETERSEN', 'M', '43', 'VANCOUVER', 'WA', '51:21', '16:34', '64 of 78', 'M 40-54', '24 of 27', '0:36', '51:57'], ['134', '1187', 'TOM KELLY', 'M', '67', 'PORTLAND', 'OR', '51:24', '16:35', '65 of 78', 'M 55+', '4 of 5', '0:38', '52:02'], ['135', '1039', 'BRIONA HILL', 'F', '21', 'PORTLAND', 'OR', '51:36', '16:38', '70 of 113', 'F 21-39', '40 of 53', '0:32', '52:08'], ['136', '1044', 'MICHELE CRUSE', 'F', '45', 'VANCOUVER', 'WA', '51:43', '16:41', '71 of 113', 'F 40-54', '18 of 37', '0:34', '52:17'], ['137', '1045', 'MICHAEL CRUSE', 'F', '51', 'VANCOUVER', 'WA', '52:18', '16:52', '72 of 113', 'F 40-54', '19 of 37', '0:36', '52:54'], ['138', '1141', 'ALLYSON PRENTICE', 'F', '56', 'GLADSTONE', 'OR', '52:58', '17:05', '73 of 113', 'F 55+', '8 of 14', '0:19', '53:17'], ['139', '1140', 'DAPHNE TENNYSON', 'F', '30', 'PORTLAND', 'OR', '52:59', '17:05', '74 of 113', 'F 21-39', '41 of 53', '0:20', '53:19'], ['140', '1198', 'BRITTANY MASHIA', 'F', '23', 'PORTLAND', 'OR', '53:13', '17:10', '75 of 113', 'F 21-39', '42 of 53', '0:38', '53:51'], ['141', '1214', 'AVERY WIESLER', 'M', '11', '', '', '53:30', '17:15', '66 of 78', 'M 20 and Under', '3 of 7', '0:32', '54:02'], ['142', '1215', 'ELISE HENDRICKSON', 'F', '48', '', '', '53:31', '17:15', '76 of 113', 'F 40-54', '20 of 37', '0:31', '54:02'], ['143', '1133', 'AJIANNAH TURNER', 'F', '13', 'PORTLAND', 'OR', '53:33', '17:16', '77 of 113', 'F 20 and Under', '5 of 6', '0:28', '54:01'], ['144', '1250', 'KIM ONTI WILSON', 'F', '', '', '', '54:53', '17:42', '78 of 113', '', '9 of 9', '0:13', '55:06'], ['145', '1228', 'KAMELAH ADAMS', 'F', '38', 'PORTLAND', 'OR', '54:55', '17:43', '79 of 113', 'F 21-39', '43 of 53', '0:13', '55:08'], ['146', '1243', 'KATHY RUSSELL', 'F', '60', 'PORTLAND', 'OR', '55:22', '17:51', '80 of 113', 'F 55+', '9 of 14', '0:17', '55:39'], ['147', '1060', 'KARIN PRICE', 'F', '38', 'VANCOUVER', 'WA', '57:16', '18:28', '81 of 113', 'F 21-39', '44 of 53', '0:32', '57:48'], ['148', '1009', 'PATRICIA SNYDER', 'F', '73', 'GLADSTONE', 'OR', '58:27', '18:51', '82 of 113', 'F 55+', '10 of 14', '0:34', '59:01'], ['149', '1008', 'SANDIE KIEHL', 'F', '71', 'GLADSTONE', 'OR', '58:28', '18:51', '83 of 113', 'F 55+', '11 of 14', '0:34', '59:02'], ['150', '1218', 'JESSIE RICKER', 'F', '33', 'PORTLAND', 'OR', '59:20', '19:08', '84 of 113', 'F 21-39', '45 of 53', '0:36', '59:56'], ['151', '1217', 'LETICIA FOWLER', 'F', '34', 'PORTLAND', 'OR', '59:22', '19:09', '85 of 113', 'F 21-39', '46 of 53', '0:35', '59:57'], ['152', '1206', 'LISA WILLIAMS', 'F', '48', 'PORTLAND', 'OR', '59:58', '19:20', '86 of 113', 'F 40-54', '21 of 37', '0:33', '1:00:31'], ['153', '1205', 'ANDREA DEBNAM', 'F', '45', 'PORTLAND', 'OR', '1:00:01', '19:21', '87 of 113', 'F 40-54', '22 of 37', '0:32', '1:00:33'], ['154', '1147', 'KYM USSING', 'F', '47', 'PORTLAND', 'OR', '1:00:08', '19:23', '88 of 113', 'F 40-54', '23 of 37', '0:29', '1:00:37'], ['155', '1129', 'HEATHER ROSENTHAL', 'F', '53', 'PORTLAND', 'OR', '1:00:09', '19:24', '89 of 113', 'F 40-54', '24 of 37', '0:27', '1:00:36'], ['156', '1211', 'ARMISSA LYLES', 'F', '44', 'GRESHAM', 'OR', '1:00:16', '19:26', '90 of 113', 'F 40-54', '25 of 37', '0:22', '1:00:38'], ['157', '1210', 'ANGELA PLEDGER', 'F', '49', 'GRESHAM', 'OR', '1:00:17', '19:26', '91 of 113', 'F 40-54', '26 of 37', '0:21', '1:00:38'], ['158', '1091', 'CARLOS LASUNCET', 'M', '44', 'BEAVERTON', '', '1:00:24', '19:29', '67 of 78', 'M 40-54', '25 of 27', '0:42', '1:01:06'], ['159', '1093', 'MARISOL LASUNCET', 'M', '9', '', '', '1:00:24', '19:29', '68 of 78', 'M 20 and Under', '4 of 7', '0:41', '1:01:05'], ['160', '1092', 'DAWNNESHA LASUNCET', 'F', '43', '', '', '1:00:27', '19:30', '92 of 113', 'F 40-54', '27 of 37', '0:40', '1:01:07'], ['161', '1109', 'JACQUELINE PAUL', 'F', '47', 'PORTLAND', 'OR', '1:00:46', '19:36', '93 of 113', 'F 40-54', '28 of 37', '0:17', '1:01:03'], ['162', '1138', 'KAYLA PAUL', 'F', '27', 'PORTLAND', 'OR', '1:00:48', '19:36', '94 of 113', 'F 21-39', '47 of 53', '0:17', '1:01:05'], ['163', '1259', 'RICO GARCIA', 'M', '17', '', '', '1:00:48', '19:36', '69 of 78', 'M 20 and Under', '5 of 7', '0:29', '1:01:17'], ['164', '1258', 'CARLOS GARCIA', 'M', '15', '', '', '1:00:51', '19:37', '70 of 78', 'M 20 and Under', '6 of 7', '0:24', '1:01:15'], ['165', '1260', 'PEPE GARCIA', 'M', '20', 'PORTLAND', 'OR', '1:00:51', '19:37', '71 of 78', 'M 20 and Under', '7 of 7', '0:29', '1:01:20'], ['166', '1255', 'NAYANA GARCIA', 'F', '11', 'PORTLAND', 'OR', '1:00:53', '19:38', '95 of 113', 'F 20 and Under', '6 of 6', '0:26', '1:01:19'], ['167', '1235', 'MICHONNÈ GAMBLE-RIVERS', 'F', '33', 'TIGARD', 'OR', '1:01:40', '19:53', '96 of 113', 'F 21-39', '48 of 53', '0:34', '1:02:14'], ['168', '1021', 'TALITHA SINGHAI', 'F', '53', 'PORTLAND', 'OR', '1:01:43', '19:54', '97 of 113', 'F 40-54', '29 of 37', '0:50', '1:02:33'], ['169', '1143', 'DIANE BRANDSMA', 'F', '53', 'BEAVERTON', 'OR', '1:01:49', '19:56', '98 of 113', 'F 40-54', '30 of 37', '0:44', '1:02:33'], ['170', '1234', 'LINDSAY HARRIS', 'F', '30', 'TIGARD', 'OR', '1:01:50', '19:57', '99 of 113', 'F 21-39', '49 of 53', '0:35', '1:02:25'], ['171', '1233', 'WILLIE MURPHY', 'M', '68', '', '', '1:02:00', '20:00', '72 of 78', 'M 55+', '5 of 5', '0:28', '1:02:28'], ['172', '1194', 'MICHELLE BENTON', 'F', '33', 'PORTLAND', 'OR', '1:02:01', '20:00', '100 of 113', 'F 21-39', '50 of 53', '0:39', '1:02:40'], ['173', '1232', 'WAYNE MURPHY', 'M', '54', '', '', '1:02:01', '20:00', '73 of 78', 'M 40-54', '26 of 27', '0:29', '1:02:30'], ['174', '1256', 'NICOLE GARCIA', 'F', '37', 'PORTLAND', 'OR', '1:02:03', '20:00', '101 of 113', 'F 21-39', '51 of 53', '0:26', '1:02:29'], ['175', '1193', 'SHEILA RANDALL', 'F', '47', 'PORTLAND', 'OR', '1:02:03', '20:01', '102 of 113', 'F 40-54', '31 of 37', '0:39', '1:02:42'], ['176', '1171', 'NEAL BROWN', 'M', '36', 'PORTLAND', 'OR', '1:02:19', '20:06', '74 of 78', 'M 21-39', '30 of 33', '0:15', '1:02:34'], ['177', '1257', 'JOSE GARCIA', 'M', '38', 'PORTLAND', 'OR', '1:02:24', '20:07', '75 of 78', 'M 21-39', '31 of 33', '0:26', '1:02:50'], ['178', '1099', 'CARLOS BANKS', 'M', '40', 'PORTLAND', 'OR', '1:02:45', '20:14', '76 of 78', 'M 40-54', '27 of 27', '0:14', '1:02:59'], ['179', '1220', 'LISA CHURCH', 'F', '44', 'RIDGEFIELD', 'WA', '1:02:46', '20:14', '103 of 113', 'F 40-54', '32 of 37', '0:35', '1:03:21'], ['180', '1221', 'ELAINE MYRICK', 'F', '50', 'RIDGEFIELD', 'WA', '1:02:47', '20:15', '104 of 113', 'F 40-54', '33 of 37', '0:35', '1:03:22'], ['181', '1113', 'RICHARD LAWSON', 'M', '31', 'HILLSBORO', 'OR', '1:02:58', '20:18', '77 of 78', 'M 21-39', '32 of 33', '0:29', '1:03:27'], ['182', '1114', 'TRISHA HUTESON', 'F', '46', 'VANCOUVER', 'WA', '1:03:04', '20:20', '105 of 113', 'F 40-54', '34 of 37', '0:24', '1:03:28'], ['183', '1240', 'GEANIE ROBINSON', 'F', '60', '', '', '1:04:23', '20:46', '106 of 113', 'F 55+', '12 of 14', '0:32', '1:04:55'], ['184', '1098', 'MICHELLE HOFFMAN', 'F', '46', 'EVERETT', 'WA', '1:05:03', '20:59', '107 of 113', 'F 40-54', '35 of 37', '0:30', '1:05:33'], ['185', '1119', 'SANDY PAGE', 'F', '66', 'PORTLAND', 'OR', '1:05:04', '20:59', '108 of 113', 'F 55+', '13 of 14', '0:30', '1:05:34'], ['186', '1116', 'CHRISTINA TURNER', 'F', '39', 'PORTLAND', 'OR', '1:05:09', '21:01', '109 of 113', 'F 21-39', '52 of 53', '0:28', '1:05:37'], ['187', '1254', 'CYNTHIA HARRIS', 'F', '64', 'PORTLAND', 'OR', '1:07:51', '21:53', '110 of 113', 'F 55+', '14 of 14', '1:19', '1:09:10'], ['188', '1085', 'EBONY LAWRENCE', 'F', '30', 'PORTLAND', 'OR', '1:08:12', '22:00', '111 of 113', 'F 21-39', '53 of 53', '0:58', '1:09:10'], ['189', '1170', 'ANTHONY WILLIAMS', 'M', '39', 'PORTLAND', 'OR', '1:09:11', '22:19', '78 of 78', 'M 21-39', '33 of 33', '0:08', '1:09:19'], ['190', '2087', 'LEESHA POSEY', 'F', '43', 'PORTLAND', 'OR', '1:33:53', '30:17', '112 of 113', 'F 40-54', '36 of 37', '0:00', '1:33:53'], ['191', '1216', 'ZULMA OCHOA', 'F', '40', 'GRESHAM', 'OR', '1:43:27', '33:22', '113 of 113', 'F 40-54', '37 of 37', '0:00', '1:43:27']]\n"
     ]
    }
   ],
   "source": [
    "#other method of getting data through pandas and dataframe\n",
    "df = pd.DataFrame(data)\n",
    "print(data)"
   ]
  },
  {
   "cell_type": "code",
   "execution_count": 31,
   "metadata": {},
   "outputs": [
    {
     "name": "stdout",
     "output_type": "stream",
     "text": [
      "       0     1                         2     3     4            5     6   \\\n",
      "0    None  None                      None  None  None         None  None   \n",
      "1       1  1191              MAX RANDOLPH     M    29   WASHINGTON    DC   \n",
      "2       2  1080   NEED NAME KAISER RUNNER     M    25     PORTLAND    OR   \n",
      "3       3  1275                DAN FRANEK     M    52     PORTLAND    OR   \n",
      "4       4  1223               PAUL TAYLOR     M    54     PORTLAND    OR   \n",
      "5       5  1245               THEO KINMAN     M    22                      \n",
      "6       6  1185            MELISSA GIRGIS     F    27     PORTLAND    OR   \n",
      "7       7  1251        CHARLIE COGGESHALL     M    39     PORTLAND    OR   \n",
      "8       8  1154  UNKNOWN RUNNER SEE TIMER     M                            \n",
      "9       9  1163  UNKNOWN RUNNER SEE TIMER     M                            \n",
      "10     10  1242            KIMONTI WILSON     F    48                      \n",
      "11     11  1017             COREY MCMANUS     M    37    BEAVERTON    OR   \n",
      "12     12  1112          MITCHELL JOHNSON     M    25     PORTLAND    OR   \n",
      "13     13  1062                 ALEX KABA     M    36     PORTLAND    OR   \n",
      "14     14  1227            ROBYN MCGILLIS     F    44     PORTLAND    OR   \n",
      "15     15  1067           MITCHELL WARDEN     M    29     PORTLAND    OR   \n",
      "16     16  1136                JULIA METZ     F    32     PORTLAND    OR   \n",
      "17     17  1199           JEREMY AREZZINI     M    38  LAKE OSWEGO    OR   \n",
      "18     18  1252              ETHAN POWELL     M                            \n",
      "19     19  1231           TIMOTHY KEARNEY     M    42     PORTLAND    OR   \n",
      "20     20  1108         TIMOTHY RINGERING     M    50    VANCOUVER    WA   \n",
      "21     21  1118          PONTUS JADERHOLM     M    43     PORTLAND    OR   \n",
      "22     22  1246               KERRY FLAGG     M                            \n",
      "23     23  1244              JARRED FLAGG     M                            \n",
      "24     24  1224                 KEN SKEEN     M    57     PORTLAND    OR   \n",
      "25     25  1065               SARA KOPTON     F    40     PORTLAND    OR   \n",
      "26     26  1274              KAISER GUEST     F    40     PORTLAND    OR   \n",
      "27     27  1208               JUSTIN PERZ     M    33     PORTLAND    OR   \n",
      "28     28  1072            ESTELA SÁNCHEZ     F    41     PORTLAND    OR   \n",
      "29     29  1018            JASON WILLIAMS     M    41     PORTLAND    OR   \n",
      "..    ...   ...                       ...   ...   ...          ...   ...   \n",
      "162   162  1138                KAYLA PAUL     F    27     PORTLAND    OR   \n",
      "163   163  1259               RICO GARCIA     M    17                      \n",
      "164   164  1258             CARLOS GARCIA     M    15                      \n",
      "165   165  1260               PEPE GARCIA     M    20     PORTLAND    OR   \n",
      "166   166  1255             NAYANA GARCIA     F    11     PORTLAND    OR   \n",
      "167   167  1235    MICHONNÈ GAMBLE-RIVERS     F    33       TIGARD    OR   \n",
      "168   168  1021           TALITHA SINGHAI     F    53     PORTLAND    OR   \n",
      "169   169  1143            DIANE BRANDSMA     F    53    BEAVERTON    OR   \n",
      "170   170  1234            LINDSAY HARRIS     F    30       TIGARD    OR   \n",
      "171   171  1233             WILLIE MURPHY     M    68                      \n",
      "172   172  1194           MICHELLE BENTON     F    33     PORTLAND    OR   \n",
      "173   173  1232              WAYNE MURPHY     M    54                      \n",
      "174   174  1256             NICOLE GARCIA     F    37     PORTLAND    OR   \n",
      "175   175  1193            SHEILA RANDALL     F    47     PORTLAND    OR   \n",
      "176   176  1171                NEAL BROWN     M    36     PORTLAND    OR   \n",
      "177   177  1257               JOSE GARCIA     M    38     PORTLAND    OR   \n",
      "178   178  1099              CARLOS BANKS     M    40     PORTLAND    OR   \n",
      "179   179  1220               LISA CHURCH     F    44   RIDGEFIELD    WA   \n",
      "180   180  1221             ELAINE MYRICK     F    50   RIDGEFIELD    WA   \n",
      "181   181  1113            RICHARD LAWSON     M    31    HILLSBORO    OR   \n",
      "182   182  1114            TRISHA HUTESON     F    46    VANCOUVER    WA   \n",
      "183   183  1240           GEANIE ROBINSON     F    60                      \n",
      "184   184  1098          MICHELLE HOFFMAN     F    46      EVERETT    WA   \n",
      "185   185  1119                SANDY PAGE     F    66     PORTLAND    OR   \n",
      "186   186  1116          CHRISTINA TURNER     F    39     PORTLAND    OR   \n",
      "187   187  1254            CYNTHIA HARRIS     F    64     PORTLAND    OR   \n",
      "188   188  1085            EBONY LAWRENCE     F    30     PORTLAND    OR   \n",
      "189   189  1170          ANTHONY WILLIAMS     M    39     PORTLAND    OR   \n",
      "190   190  2087              LEESHA POSEY     F    43     PORTLAND    OR   \n",
      "191   191  1216               ZULMA OCHOA     F    40      GRESHAM    OR   \n",
      "\n",
      "          7      8           9               10        11    12       13  \n",
      "0       None   None        None            None      None  None     None  \n",
      "1      16:48   5:25     1 of 78         M 21-39   1 of 33  0:08    16:56  \n",
      "2      17:31   5:39     2 of 78         M 21-39   2 of 33  0:09    17:40  \n",
      "3      18:15   5:53     3 of 78         M 40-54   1 of 27  0:07    18:22  \n",
      "4      18:31   5:58     4 of 78         M 40-54   2 of 27  0:07    18:38  \n",
      "5      19:31   6:17     5 of 78         M 21-39   3 of 33  0:09    19:40  \n",
      "6      19:39   6:20    1 of 113         F 21-39   1 of 53  0:07    19:46  \n",
      "7      19:51   6:24     6 of 78         M 21-39   4 of 33  0:10    20:01  \n",
      "8      24:58   8:03     7 of 78                    1 of 9  2:00    26:58  \n",
      "9      25:01   8:04     8 of 78                    2 of 9  1:59    27:00  \n",
      "10     25:01   8:04    2 of 113         F 40-54   1 of 37  1:59    27:00  \n",
      "11     25:17   8:09     9 of 78         M 21-39   5 of 33  0:22    25:39  \n",
      "12     25:31   8:13    10 of 78         M 21-39   6 of 33  0:15    25:46  \n",
      "13     25:31   8:14    11 of 78         M 21-39   7 of 33  0:14    25:45  \n",
      "14     25:44   8:18    3 of 113         F 40-54   2 of 37  0:08    25:52  \n",
      "15     25:46   8:19    12 of 78         M 21-39   8 of 33  0:14    26:00  \n",
      "16     26:31   8:33    4 of 113         F 21-39   2 of 53  0:33    27:04  \n",
      "17     26:44   8:37    13 of 78         M 21-39   9 of 33  0:41    27:25  \n",
      "18     26:52   8:40    14 of 78                    3 of 9  0:11    27:03  \n",
      "19     26:58   8:42    15 of 78         M 40-54   3 of 27  0:11    27:09  \n",
      "20     27:02   8:43    16 of 78         M 40-54   4 of 27  0:10    27:12  \n",
      "21     27:08   8:45    17 of 78         M 40-54   5 of 27  0:13    27:21  \n",
      "22     27:10   8:45    18 of 78                    4 of 9  0:10    27:20  \n",
      "23     27:11   8:46    19 of 78                    5 of 9  0:10    27:21  \n",
      "24     27:12   8:46    20 of 78           M 55+    1 of 5  0:18    27:30  \n",
      "25     27:27   8:51    5 of 113         F 40-54   3 of 37  0:20    27:47  \n",
      "26     27:37   8:54    6 of 113         F 40-54   4 of 37  0:09    27:46  \n",
      "27     27:39   8:55    21 of 78         M 21-39  10 of 33  0:38    28:17  \n",
      "28     27:45   8:57    7 of 113         F 40-54   5 of 37  0:08    27:53  \n",
      "29     27:50   8:58    22 of 78         M 40-54   6 of 27  0:23    28:13  \n",
      "..       ...    ...         ...             ...       ...   ...      ...  \n",
      "162  1:00:48  19:36   94 of 113         F 21-39  47 of 53  0:17  1:01:05  \n",
      "163  1:00:48  19:36    69 of 78  M 20 and Under    5 of 7  0:29  1:01:17  \n",
      "164  1:00:51  19:37    70 of 78  M 20 and Under    6 of 7  0:24  1:01:15  \n",
      "165  1:00:51  19:37    71 of 78  M 20 and Under    7 of 7  0:29  1:01:20  \n",
      "166  1:00:53  19:38   95 of 113  F 20 and Under    6 of 6  0:26  1:01:19  \n",
      "167  1:01:40  19:53   96 of 113         F 21-39  48 of 53  0:34  1:02:14  \n",
      "168  1:01:43  19:54   97 of 113         F 40-54  29 of 37  0:50  1:02:33  \n",
      "169  1:01:49  19:56   98 of 113         F 40-54  30 of 37  0:44  1:02:33  \n",
      "170  1:01:50  19:57   99 of 113         F 21-39  49 of 53  0:35  1:02:25  \n",
      "171  1:02:00  20:00    72 of 78           M 55+    5 of 5  0:28  1:02:28  \n",
      "172  1:02:01  20:00  100 of 113         F 21-39  50 of 53  0:39  1:02:40  \n",
      "173  1:02:01  20:00    73 of 78         M 40-54  26 of 27  0:29  1:02:30  \n",
      "174  1:02:03  20:00  101 of 113         F 21-39  51 of 53  0:26  1:02:29  \n",
      "175  1:02:03  20:01  102 of 113         F 40-54  31 of 37  0:39  1:02:42  \n",
      "176  1:02:19  20:06    74 of 78         M 21-39  30 of 33  0:15  1:02:34  \n",
      "177  1:02:24  20:07    75 of 78         M 21-39  31 of 33  0:26  1:02:50  \n",
      "178  1:02:45  20:14    76 of 78         M 40-54  27 of 27  0:14  1:02:59  \n",
      "179  1:02:46  20:14  103 of 113         F 40-54  32 of 37  0:35  1:03:21  \n",
      "180  1:02:47  20:15  104 of 113         F 40-54  33 of 37  0:35  1:03:22  \n",
      "181  1:02:58  20:18    77 of 78         M 21-39  32 of 33  0:29  1:03:27  \n",
      "182  1:03:04  20:20  105 of 113         F 40-54  34 of 37  0:24  1:03:28  \n",
      "183  1:04:23  20:46  106 of 113           F 55+  12 of 14  0:32  1:04:55  \n",
      "184  1:05:03  20:59  107 of 113         F 40-54  35 of 37  0:30  1:05:33  \n",
      "185  1:05:04  20:59  108 of 113           F 55+  13 of 14  0:30  1:05:34  \n",
      "186  1:05:09  21:01  109 of 113         F 21-39  52 of 53  0:28  1:05:37  \n",
      "187  1:07:51  21:53  110 of 113           F 55+  14 of 14  1:19  1:09:10  \n",
      "188  1:08:12  22:00  111 of 113         F 21-39  53 of 53  0:58  1:09:10  \n",
      "189  1:09:11  22:19    78 of 78         M 21-39  33 of 33  0:08  1:09:19  \n",
      "190  1:33:53  30:17  112 of 113         F 40-54  36 of 37  0:00  1:33:53  \n",
      "191  1:43:27  33:22  113 of 113         F 40-54  37 of 37  0:00  1:43:27  \n",
      "\n",
      "[192 rows x 14 columns]\n"
     ]
    }
   ],
   "source": [
    "#data in order\n",
    "df = pd.DataFrame(data)\n",
    "print(df)"
   ]
  },
  {
   "cell_type": "code",
   "execution_count": 36,
   "metadata": {},
   "outputs": [
    {
     "name": "stdout",
     "output_type": "stream",
     "text": [
      "     0     1             2     3     4           5     6      7     8   \\\n",
      "0  None  None          None  None  None        None  None   None  None   \n",
      "1     1  1191  MAX RANDOLPH     M    29  WASHINGTON    DC  16:48  5:25   \n",
      "\n",
      "        9        10       11    12     13  \n",
      "0     None     None     None  None   None  \n",
      "1  1 of 78  M 21-39  1 of 33  0:08  16:56  \n",
      "      0     1             2  3   4         5   6        7      8           9   \\\n",
      "190  190  2087  LEESHA POSEY  F  43  PORTLAND  OR  1:33:53  30:17  112 of 113   \n",
      "191  191  1216   ZULMA OCHOA  F  40   GRESHAM  OR  1:43:27  33:22  113 of 113   \n",
      "\n",
      "          10        11    12       13  \n",
      "190  F 40-54  36 of 37  0:00  1:33:53  \n",
      "191  F 40-54  37 of 37  0:00  1:43:27  \n"
     ]
    }
   ],
   "source": [
    "df = pd.DataFrame(data)\n",
    "print(df.head(2)) #print first five column, 2- rows\n",
    "print(df.tail(2))"
   ]
  },
  {
   "cell_type": "code",
   "execution_count": 37,
   "metadata": {},
   "outputs": [
    {
     "data": {
      "text/plain": [
       "[<th>Place</th>,\n",
       " <th>Bib</th>,\n",
       " <th>Name</th>,\n",
       " <th>Gender</th>,\n",
       " <th>Age</th>,\n",
       " <th>City</th>,\n",
       " <th>State</th>,\n",
       " <th>Chip Time</th>,\n",
       " <th>Chip Pace</th>,\n",
       " <th>Gender Place</th>,\n",
       " <th>Age Group</th>,\n",
       " <th>Age Group Place</th>,\n",
       " <th>Time to Start</th>,\n",
       " <th>Gun Time</th>]"
      ]
     },
     "execution_count": 37,
     "metadata": {},
     "output_type": "execute_result"
    }
   ],
   "source": [
    "#headers\n",
    "col_headers = soup.find_all('th')\n",
    "col_headers"
   ]
  },
  {
   "cell_type": "code",
   "execution_count": 38,
   "metadata": {},
   "outputs": [
    {
     "name": "stdout",
     "output_type": "stream",
     "text": [
      "['Place', 'Bib', 'Name', 'Gender', 'Age', 'City', 'State', 'Chip Time', 'Chip Pace', 'Gender Place', 'Age Group', 'Age Group Place', 'Time to Start', 'Gun Time']\n"
     ]
    }
   ],
   "source": [
    "#arrange header in list\n",
    "header_list = []\n",
    "col_headers = soup.find_all('th')\n",
    "for col in col_headers:\n",
    "    header_list.append(col.text)\n",
    "print(header_list)"
   ]
  },
  {
   "cell_type": "code",
   "execution_count": 39,
   "metadata": {},
   "outputs": [
    {
     "name": "stdout",
     "output_type": "stream",
     "text": [
      "  Place   Bib                     Name Gender   Age        City State  \\\n",
      "0  None  None                     None   None  None        None  None   \n",
      "1     1  1191             MAX RANDOLPH      M    29  WASHINGTON    DC   \n",
      "2     2  1080  NEED NAME KAISER RUNNER      M    25    PORTLAND    OR   \n",
      "3     3  1275               DAN FRANEK      M    52    PORTLAND    OR   \n",
      "4     4  1223              PAUL TAYLOR      M    54    PORTLAND    OR   \n",
      "\n",
      "  Chip Time Chip Pace Gender Place Age Group Age Group Place Time to Start  \\\n",
      "0      None      None         None      None            None          None   \n",
      "1     16:48      5:25      1 of 78   M 21-39         1 of 33          0:08   \n",
      "2     17:31      5:39      2 of 78   M 21-39         2 of 33          0:09   \n",
      "3     18:15      5:53      3 of 78   M 40-54         1 of 27          0:07   \n",
      "4     18:31      5:58      4 of 78   M 40-54         2 of 27          0:07   \n",
      "\n",
      "  Gun Time  \n",
      "0     None  \n",
      "1    16:56  \n",
      "2    17:40  \n",
      "3    18:22  \n",
      "4    18:38  \n"
     ]
    }
   ],
   "source": [
    "#headers in pandas\n",
    "df.columns = header_list\n",
    "print(df.head())"
   ]
  },
  {
   "cell_type": "code",
   "execution_count": 40,
   "metadata": {},
   "outputs": [
    {
     "name": "stdout",
     "output_type": "stream",
     "text": [
      "<class 'pandas.core.frame.DataFrame'>\n",
      "RangeIndex: 192 entries, 0 to 191\n",
      "Data columns (total 14 columns):\n",
      "Place              191 non-null object\n",
      "Bib                191 non-null object\n",
      "Name               191 non-null object\n",
      "Gender             191 non-null object\n",
      "Age                191 non-null object\n",
      "City               191 non-null object\n",
      "State              191 non-null object\n",
      "Chip Time          191 non-null object\n",
      "Chip Pace          191 non-null object\n",
      "Gender Place       191 non-null object\n",
      "Age Group          191 non-null object\n",
      "Age Group Place    191 non-null object\n",
      "Time to Start      191 non-null object\n",
      "Gun Time           191 non-null object\n",
      "dtypes: object(14)\n",
      "memory usage: 21.1+ KB\n"
     ]
    }
   ],
   "source": [
    "#to check info in the columns\n",
    "df.info()"
   ]
  },
  {
   "cell_type": "code",
   "execution_count": 41,
   "metadata": {},
   "outputs": [
    {
     "data": {
      "text/plain": [
       "(192, 14)"
      ]
     },
     "execution_count": 41,
     "metadata": {},
     "output_type": "execute_result"
    }
   ],
   "source": [
    "df.shape     #check shape (enteries, column)"
   ]
  },
  {
   "cell_type": "code",
   "execution_count": 62,
   "metadata": {},
   "outputs": [
    {
     "data": {
      "text/plain": [
       "(191, 14)"
      ]
     },
     "execution_count": 62,
     "metadata": {},
     "output_type": "execute_result"
    }
   ],
   "source": [
    "df2 = df.dropna(how='any')\n",
    "df2.shape"
   ]
  }
 ],
 "metadata": {
  "kernelspec": {
   "display_name": "Python 3",
   "language": "python",
   "name": "python3"
  },
  "language_info": {
   "codemirror_mode": {
    "name": "ipython",
    "version": 3
   },
   "file_extension": ".py",
   "mimetype": "text/x-python",
   "name": "python",
   "nbconvert_exporter": "python",
   "pygments_lexer": "ipython3",
   "version": "3.7.1"
  }
 },
 "nbformat": 4,
 "nbformat_minor": 2
}
